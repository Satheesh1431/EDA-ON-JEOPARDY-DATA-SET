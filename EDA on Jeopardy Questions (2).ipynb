{
 "cells": [
  {
   "cell_type": "markdown",
   "id": "9cfb577b",
   "metadata": {},
   "source": [
    "# EDA  On 200000 Jeopardy Questions "
   ]
  },
  {
   "cell_type": "markdown",
   "id": "17161d5a",
   "metadata": {},
   "source": [
    "*The Dataset is taken form Kaggle which contains the information of 2 lakh  Jeopardy questions of Diff value asked on diff shows and different dates*\n",
    "<hr/>\n",
    "<b>The dataset contains the following features</b>\n",
    "<ol>\n",
    "    <li>Show Number-The published show Number</li>\n",
    "    <li>Air Date\t-The Date of the show</li>\n",
    "    <li>Round-Jeopardy or Double jeopardy or Final</li>\n",
    "    <li>Category-Category of the question asked</li>\n",
    "    <li>Value-Value of the question (200$,400$,800$.......$) </li>\n",
    "    <li>Question-asked question during the round</li>\n",
    "    <li>Answer-Answer given by the contestant </li>\n",
    "    \n",
    " </ol>\n",
    "    \n"
   ]
  },
  {
   "cell_type": "code",
   "execution_count": 1,
   "id": "c8a773b8",
   "metadata": {},
   "outputs": [],
   "source": [
    "#Importing Required libraries\n",
    "import pandas as pd\n",
    "import numpy as np\n",
    "import matplotlib.pyplot as plt\n",
    "import seaborn as sns"
   ]
  },
  {
   "cell_type": "code",
   "execution_count": 2,
   "id": "4173f2a2",
   "metadata": {},
   "outputs": [],
   "source": [
    "#reading the Dataset\n",
    "df=pd.read_csv('JEOPARDY_CSV.csv')"
   ]
  },
  {
   "cell_type": "code",
   "execution_count": 3,
   "id": "4d714d93",
   "metadata": {},
   "outputs": [
    {
     "data": {
      "text/html": [
       "<div>\n",
       "<style scoped>\n",
       "    .dataframe tbody tr th:only-of-type {\n",
       "        vertical-align: middle;\n",
       "    }\n",
       "\n",
       "    .dataframe tbody tr th {\n",
       "        vertical-align: top;\n",
       "    }\n",
       "\n",
       "    .dataframe thead th {\n",
       "        text-align: right;\n",
       "    }\n",
       "</style>\n",
       "<table border=\"1\" class=\"dataframe\">\n",
       "  <thead>\n",
       "    <tr style=\"text-align: right;\">\n",
       "      <th></th>\n",
       "      <th>Show Number</th>\n",
       "      <th>Air Date</th>\n",
       "      <th>Round</th>\n",
       "      <th>Category</th>\n",
       "      <th>Value</th>\n",
       "      <th>Question</th>\n",
       "      <th>Answer</th>\n",
       "    </tr>\n",
       "  </thead>\n",
       "  <tbody>\n",
       "    <tr>\n",
       "      <th>0</th>\n",
       "      <td>4680</td>\n",
       "      <td>2004-12-31</td>\n",
       "      <td>Jeopardy!</td>\n",
       "      <td>HISTORY</td>\n",
       "      <td>$200</td>\n",
       "      <td>For the last 8 years of his life, Galileo was ...</td>\n",
       "      <td>Copernicus</td>\n",
       "    </tr>\n",
       "    <tr>\n",
       "      <th>1</th>\n",
       "      <td>4680</td>\n",
       "      <td>2004-12-31</td>\n",
       "      <td>Jeopardy!</td>\n",
       "      <td>ESPN's TOP 10 ALL-TIME ATHLETES</td>\n",
       "      <td>$200</td>\n",
       "      <td>No. 2: 1912 Olympian; football star at Carlisl...</td>\n",
       "      <td>Jim Thorpe</td>\n",
       "    </tr>\n",
       "    <tr>\n",
       "      <th>2</th>\n",
       "      <td>4680</td>\n",
       "      <td>2004-12-31</td>\n",
       "      <td>Jeopardy!</td>\n",
       "      <td>EVERYBODY TALKS ABOUT IT...</td>\n",
       "      <td>$200</td>\n",
       "      <td>The city of Yuma in this state has a record av...</td>\n",
       "      <td>Arizona</td>\n",
       "    </tr>\n",
       "    <tr>\n",
       "      <th>3</th>\n",
       "      <td>4680</td>\n",
       "      <td>2004-12-31</td>\n",
       "      <td>Jeopardy!</td>\n",
       "      <td>THE COMPANY LINE</td>\n",
       "      <td>$200</td>\n",
       "      <td>In 1963, live on \"The Art Linkletter Show\", th...</td>\n",
       "      <td>McDonald's</td>\n",
       "    </tr>\n",
       "    <tr>\n",
       "      <th>4</th>\n",
       "      <td>4680</td>\n",
       "      <td>2004-12-31</td>\n",
       "      <td>Jeopardy!</td>\n",
       "      <td>EPITAPHS &amp; TRIBUTES</td>\n",
       "      <td>$200</td>\n",
       "      <td>Signer of the Dec. of Indep., framer of the Co...</td>\n",
       "      <td>John Adams</td>\n",
       "    </tr>\n",
       "  </tbody>\n",
       "</table>\n",
       "</div>"
      ],
      "text/plain": [
       "   Show Number    Air Date      Round                         Category  Value  \\\n",
       "0         4680  2004-12-31  Jeopardy!                          HISTORY   $200   \n",
       "1         4680  2004-12-31  Jeopardy!  ESPN's TOP 10 ALL-TIME ATHLETES   $200   \n",
       "2         4680  2004-12-31  Jeopardy!      EVERYBODY TALKS ABOUT IT...   $200   \n",
       "3         4680  2004-12-31  Jeopardy!                 THE COMPANY LINE   $200   \n",
       "4         4680  2004-12-31  Jeopardy!              EPITAPHS & TRIBUTES   $200   \n",
       "\n",
       "                                            Question      Answer  \n",
       "0  For the last 8 years of his life, Galileo was ...  Copernicus  \n",
       "1  No. 2: 1912 Olympian; football star at Carlisl...  Jim Thorpe  \n",
       "2  The city of Yuma in this state has a record av...     Arizona  \n",
       "3  In 1963, live on \"The Art Linkletter Show\", th...  McDonald's  \n",
       "4  Signer of the Dec. of Indep., framer of the Co...  John Adams  "
      ]
     },
     "execution_count": 3,
     "metadata": {},
     "output_type": "execute_result"
    }
   ],
   "source": [
    "#Showing fhe First five columns of the dataset\n",
    "df.head()"
   ]
  },
  {
   "cell_type": "code",
   "execution_count": 4,
   "id": "db760a71",
   "metadata": {},
   "outputs": [
    {
     "data": {
      "text/plain": [
       "(216930, 7)"
      ]
     },
     "execution_count": 4,
     "metadata": {},
     "output_type": "execute_result"
    }
   ],
   "source": [
    "#Getting the shape of the dataset\n",
    "df.shape"
   ]
  },
  {
   "cell_type": "markdown",
   "id": "f5da5c74",
   "metadata": {},
   "source": [
    "<p>This dataset contains 216930 questions</p>"
   ]
  },
  {
   "cell_type": "code",
   "execution_count": 5,
   "id": "6d5d2bc0",
   "metadata": {},
   "outputs": [
    {
     "data": {
      "text/plain": [
       "Show Number     int64\n",
       " Air Date      object\n",
       " Round         object\n",
       " Category      object\n",
       " Value         object\n",
       " Question      object\n",
       " Answer        object\n",
       "dtype: object"
      ]
     },
     "execution_count": 5,
     "metadata": {},
     "output_type": "execute_result"
    }
   ],
   "source": [
    "#getting Dtatypes of the Features\n",
    "df.dtypes"
   ]
  },
  {
   "cell_type": "code",
   "execution_count": 6,
   "id": "6ed0e269",
   "metadata": {},
   "outputs": [
    {
     "data": {
      "text/plain": [
       "Show Number    0\n",
       " Air Date      0\n",
       " Round         0\n",
       " Category      0\n",
       " Value         0\n",
       " Question      0\n",
       " Answer        2\n",
       "dtype: int64"
      ]
     },
     "execution_count": 6,
     "metadata": {},
     "output_type": "execute_result"
    }
   ],
   "source": [
    "#getting Null value Rows\n",
    "df.isnull().sum()"
   ]
  },
  {
   "cell_type": "code",
   "execution_count": 7,
   "id": "49ac3120",
   "metadata": {},
   "outputs": [
    {
     "data": {
      "text/plain": [
       "Index(['Show Number', ' Air Date', ' Round', ' Category', ' Value',\n",
       "       ' Question', ' Answer'],\n",
       "      dtype='object')"
      ]
     },
     "execution_count": 7,
     "metadata": {},
     "output_type": "execute_result"
    }
   ],
   "source": [
    "#Getting Column Names\n",
    "df.columns"
   ]
  },
  {
   "cell_type": "code",
   "execution_count": 8,
   "id": "e9cfe6b5",
   "metadata": {},
   "outputs": [],
   "source": [
    "#Renaming columns For Convinient use\n",
    "df.rename(columns={'Show Number':'show_no',\n",
    "                   ' Air Date':'air_date',' Round':'round',\n",
    "                   ' Category':'category',' Value':'value',\n",
    "                   'Question':'question',' Answer':'answer'},inplace=True)"
   ]
  },
  {
   "cell_type": "code",
   "execution_count": 9,
   "id": "e9c49b76",
   "metadata": {},
   "outputs": [],
   "source": [
    "#filling Null values of answer with no string .Since We can't guess the Answer\n",
    "df['answer'].fillna(' ',inplace=True)"
   ]
  },
  {
   "cell_type": "code",
   "execution_count": 10,
   "id": "77fa3aac",
   "metadata": {},
   "outputs": [],
   "source": [
    "#Filling none string with '$0' string since No money is given to that question\n",
    "value=df['value'].values\n",
    "for  i in range(len(value)):\n",
    "    if(value[i]=='None'):\n",
    "        value[i]='$0'"
   ]
  },
  {
   "cell_type": "code",
   "execution_count": 11,
   "id": "76d55bc8",
   "metadata": {},
   "outputs": [],
   "source": [
    "#converting the data type of the value column to Int type\n",
    "value=[i.replace(\",\",\"\") for i in value]\n",
    "value=[i.replace(\"$\",\"\") for i in value]\n",
    "value=[int(i) for i in value]\n",
    "df['value']=value"
   ]
  },
  {
   "cell_type": "code",
   "execution_count": 12,
   "id": "d6455366",
   "metadata": {},
   "outputs": [],
   "source": [
    "#coverting String Date To date Type column\n",
    "df['air_date'] = pd.to_datetime(df['air_date'])"
   ]
  },
  {
   "cell_type": "code",
   "execution_count": 13,
   "id": "a2c6e0bb",
   "metadata": {},
   "outputs": [
    {
     "name": "stdout",
     "output_type": "stream",
     "text": [
      "2941    62\n",
      "5332    62\n",
      "6237    61\n",
      "1945    61\n",
      "3562    61\n",
      "        ..\n",
      "3656    30\n",
      "6300    30\n",
      "2757    30\n",
      "3022    16\n",
      "1178    12\n",
      "Name: show_no, Length: 3640, dtype: int64\n",
      "======================================================\n",
      "1997-05-19    62\n",
      "2007-11-13    62\n",
      "2011-11-01    61\n",
      "1993-02-05    61\n",
      "2000-02-15    61\n",
      "              ..\n",
      "2000-06-26    30\n",
      "2012-01-27    30\n",
      "1996-09-03    30\n",
      "1997-10-21    16\n",
      "1989-10-18    12\n",
      "Name: air_date, Length: 3640, dtype: int64\n",
      "======================================================\n",
      "Jeopardy!           107384\n",
      "Double Jeopardy!    105912\n",
      "Final Jeopardy!       3631\n",
      "Tiebreaker               3\n",
      "Name: round, dtype: int64\n",
      "======================================================\n",
      "BEFORE & AFTER        547\n",
      "SCIENCE               519\n",
      "LITERATURE            496\n",
      "AMERICAN HISTORY      418\n",
      "POTPOURRI             401\n",
      "                     ... \n",
      "1999 TELEVISION         1\n",
      "WORDS IN PHYSICS        1\n",
      "LITERATURE & MUSIC      1\n",
      "'90s NOTABLES           1\n",
      "CELEBRITY NAMES         1\n",
      "Name: category, Length: 27995, dtype: int64\n",
      "======================================================\n",
      "400      42244\n",
      "800      31860\n",
      "200      30455\n",
      "1000     21640\n",
      "600      20377\n",
      "         ...  \n",
      "5401         1\n",
      "1183         1\n",
      "1203         1\n",
      "11600        1\n",
      "11200        1\n",
      "Name: value, Length: 146, dtype: int64\n",
      "======================================================\n",
      "[audio clue]                                                                                               17\n",
      "[video clue]                                                                                               14\n",
      "(audio clue)                                                                                                5\n",
      "[filler]                                                                                                    5\n",
      "Hainan                                                                                                      4\n",
      "                                                                                                           ..\n",
      "In a Kipling ballad \"East is east, and west is west, and never\" these 4 words                               1\n",
      "The Czechs call this 720-mile-long river the Labe                                                           1\n",
      "You can still buy this character's cereal online                                                            1\n",
      "The Black Knight plush figure from this British comedy film has detachable limbs                            1\n",
      "A silent movie title includes the last name of this 18th c. statesman & favorite of Catherine the Great     1\n",
      "Name:  Question, Length: 216124, dtype: int64\n",
      "======================================================\n",
      "China                             216\n",
      "Australia                         215\n",
      "Japan                             196\n",
      "Chicago                           194\n",
      "France                            193\n",
      "                                 ... \n",
      "the barre (or bar)                  1\n",
      "grams                               1\n",
      "the Hopis                           1\n",
      "free parking                        1\n",
      "Grigori Alexandrovich Potemkin      1\n",
      "Name: answer, Length: 88269, dtype: int64\n",
      "======================================================\n"
     ]
    }
   ],
   "source": [
    "#Getting Unique Values Count of the Columns\n",
    "columns=df.columns\n",
    "for col in columns[0:7]:\n",
    "    print(df[col].value_counts())\n",
    "    print(\"======================================================\")"
   ]
  },
  {
   "cell_type": "markdown",
   "id": "96ef11cb",
   "metadata": {},
   "source": [
    "<b>Inference</b>\n",
    "<ol>\n",
    "<li>3640 Shows was telecasted  in 3640 diff dates.</li>\n",
    "<li>four rounds are there in the quiz namely Jeopardy!,Double Jeopardy!,Final Jeopardy!,Tiebreaker.</li>\n",
    "    <li>most repeatred categeory was Before and After</li>\n",
    "<li>Max Amount  per Question is 11,200 dollars \n",
    "    and Min was 200 dollar</li>\n",
    "    <li>There was no Reapeating Question But Some was Repeating Answers</li>\n",
    "</ol>\n",
    " "
   ]
  },
  {
   "cell_type": "markdown",
   "id": "e45b9c22",
   "metadata": {},
   "source": [
    "# Univariate Analysis"
   ]
  },
  {
   "cell_type": "markdown",
   "id": "0d0ea95a",
   "metadata": {},
   "source": [
    "##### Count Plot for round column"
   ]
  },
  {
   "cell_type": "code",
   "execution_count": 14,
   "id": "89699728",
   "metadata": {},
   "outputs": [
    {
     "data": {
      "text/plain": [
       "Text(0.5, 1.0, 'Number of Questions per round')"
      ]
     },
     "execution_count": 14,
     "metadata": {},
     "output_type": "execute_result"
    },
    {
     "data": {
      "image/png": "[encoded data removed]",
      "text/plain": [
       "<Figure size 432x288 with 1 Axes>"
      ]
     },
     "metadata": {
      "needs_background": "light"
     },
     "output_type": "display_data"
    }
   ],
   "source": [
    "# Number of question asked per round\n",
    "sns.countplot(x=\"round\",data=df)\n",
    "plt.xlabel(\"Round Name\")\n",
    "plt.ylabel(\"NO of Questions per Round\")\n",
    "plt.title(\"Number of Questions per round\")"
   ]
  },
  {
   "cell_type": "markdown",
   "id": "d09b6d31",
   "metadata": {},
   "source": [
    "<b>Inference</b>\n",
    "<ul>\n",
    "    <li>More questions was asked in Jeopardy!(49%) Round followed by Double Jeopardy!(48%) and final Jeopardy!(2%)</li>\n",
    "    <li>there is a 1% chance of tiebraker</li>\n",
    "    </ul>"
   ]
  },
  {
   "cell_type": "markdown",
   "id": "bc0748c2",
   "metadata": {},
   "source": [
    "#### Barplot for Value Column"
   ]
  },
  {
   "cell_type": "code",
   "execution_count": 15,
   "id": "bce99c97",
   "metadata": {},
   "outputs": [
    {
     "data": {
      "text/plain": [
       "Text(0.5, 1.0, 'Top 10 Valued Qeustions')"
      ]
     },
     "execution_count": 15,
     "metadata": {},
     "output_type": "execute_result"
    },
    {
     "data": {
      "image/png": "[encoded data removed]",
      "text/plain": [
       "<Figure size 432x288 with 1 Axes>"
      ]
     },
     "metadata": {
      "needs_background": "light"
     },
     "output_type": "display_data"
    }
   ],
   "source": [
    "#barplot for the Value column(top 10 Values)\n",
    "sns.barplot(x=df.value.value_counts()[:10].index,y=df.value.value_counts()[:10].values)\n",
    "plt.xlabel('Values of the Questions Asked')\n",
    "plt.ylabel('count of diff valued Questions')\n",
    "plt.title('Top 10 Valued Qeustions')"
   ]
  },
  {
   "cell_type": "markdown",
   "id": "e1da83ec",
   "metadata": {},
   "source": [
    "**Inference**\n",
    "* Mostly asked questions was Valued 400$(19%)."
   ]
  },
  {
   "cell_type": "markdown",
   "id": "be8c4e84",
   "metadata": {},
   "source": [
    "### Top Category Questions Asked in the Dataset"
   ]
  },
  {
   "cell_type": "code",
   "execution_count": 16,
   "id": "63b678f1",
   "metadata": {},
   "outputs": [
    {
     "data": {
      "text/plain": [
       "<Figure size 7200x7.2e+06 with 0 Axes>"
      ]
     },
     "execution_count": 16,
     "metadata": {},
     "output_type": "execute_result"
    },
    {
     "data": {
      "image/png": "[encoded data removed]",
      "text/plain": [
       "<Figure size 432x288 with 1 Axes>"
      ]
     },
     "metadata": {
      "needs_background": "light"
     },
     "output_type": "display_data"
    },
    {
     "data": {
      "text/plain": [
       "<Figure size 7200x7.2e+06 with 0 Axes>"
      ]
     },
     "metadata": {},
     "output_type": "display_data"
    }
   ],
   "source": [
    "sns.barplot(x=df.category.value_counts()[:10].index,y=df.category.value_counts()[:10].values)\n",
    "plt.xlabel('Values of the Questions Asked')\n",
    "plt.ylabel('count of diff categeroy questions')\n",
    "plt.title('Top 10 category Qeustions')\n",
    "plt.figure(figsize=(100, 100000))"
   ]
  },
  {
   "cell_type": "markdown",
   "id": "412527f4",
   "metadata": {},
   "source": [
    "**Inference**\n",
    "* Most Asked Categeory was Before And After\n",
    "\n"
   ]
  },
  {
   "cell_type": "markdown",
   "id": "c5c1f47f",
   "metadata": {},
   "source": [
    "# Bivariate Analysis"
   ]
  },
  {
   "cell_type": "code",
   "execution_count": 17,
   "id": "8dfcf7ab",
   "metadata": {},
   "outputs": [],
   "source": [
    "#Getting Year wise Analysis\n",
    "df['year'] = pd. DatetimeIndex(df['air_date']). year"
   ]
  },
  {
   "cell_type": "code",
   "execution_count": 18,
   "id": "64245985",
   "metadata": {},
   "outputs": [],
   "source": [
    "df1=df.groupby('year')"
   ]
  },
  {
   "cell_type": "markdown",
   "id": "0fa2b503",
   "metadata": {},
   "source": [
    "# Scatter Plot for  Value(sum) and year"
   ]
  },
  {
   "cell_type": "code",
   "execution_count": 19,
   "id": "0dc1294f",
   "metadata": {},
   "outputs": [
    {
     "data": {
      "text/plain": [
       "Text(0.5, 1.0, ' Sum Of Values Vs  year')"
      ]
     },
     "execution_count": 19,
     "metadata": {},
     "output_type": "execute_result"
    },
    {
     "data": {
      "image/png": "[encoded data removed]",
      "text/plain": [
       "<Figure size 432x288 with 1 Axes>"
      ]
     },
     "metadata": {
      "needs_background": "light"
     },
     "output_type": "display_data"
    }
   ],
   "source": [
    "#Scatter plot for Value sum Vs year\n",
    "sns.scatterplot(x=df1['value'].sum().index,y=df1['value'].sum().values)\n",
    "plt.xlabel('Year')\n",
    "plt.ylabel('Sum of Values')\n",
    "plt.title(' Sum Of Values Vs  year')"
   ]
  },
  {
   "cell_type": "markdown",
   "id": "035cf96d",
   "metadata": {},
   "source": [
    "**Inference**\n",
    "* Increasing trend in the Sum of the values as the year progresses"
   ]
  },
  {
   "cell_type": "markdown",
   "id": "369062ed",
   "metadata": {},
   "source": [
    "# Pre Processing"
   ]
  },
  {
   "cell_type": "code",
   "execution_count": 20,
   "id": "ff040530",
   "metadata": {},
   "outputs": [
    {
     "name": "stderr",
     "output_type": "stream",
     "text": [
      "[nltk_data] Downloading package punkt to\n",
      "[nltk_data]     C:\\Users\\gorla\\AppData\\Roaming\\nltk_data...\n",
      "[nltk_data]   Package punkt is already up-to-date!\n",
      "[nltk_data] Downloading package wordnet to\n",
      "[nltk_data]     C:\\Users\\gorla\\AppData\\Roaming\\nltk_data...\n",
      "[nltk_data]   Package wordnet is already up-to-date!\n",
      "[nltk_data] Downloading package stopwords to\n",
      "[nltk_data]     C:\\Users\\gorla\\AppData\\Roaming\\nltk_data...\n",
      "[nltk_data]   Package stopwords is already up-to-date!\n",
      "[nltk_data] Downloading package averaged_perceptron_tagger to\n",
      "[nltk_data]     C:\\Users\\gorla\\AppData\\Roaming\\nltk_data...\n",
      "[nltk_data]   Package averaged_perceptron_tagger is already up-to-\n",
      "[nltk_data]       date!\n"
     ]
    }
   ],
   "source": [
    "import nltk\n",
    "nltk.download('punkt')\n",
    "nltk.download('wordnet')\n",
    "nltk.download('stopwords')\n",
    "nltk.download('averaged_perceptron_tagger')\n",
    "import contractions"
   ]
  },
  {
   "cell_type": "code",
   "execution_count": 22,
   "id": "f6c445c7",
   "metadata": {},
   "outputs": [],
   "source": [
    "#Removing digits and fixing contracitons\n",
    "import re\n",
    "def remove_special_characters(text, remove_digits=False):\n",
    "    pattern = r'[^a-zA-Z0-9\\s]' if not remove_digits else r'[^a-zA-Z\\s]'\n",
    "    contractions.fix(text)\n",
    "    text = re.sub(pattern, '', text)\n",
    "    return text"
   ]
  },
  {
   "cell_type": "code",
   "execution_count": 23,
   "id": "aeb4b54d",
   "metadata": {},
   "outputs": [],
   "source": [
    "#Stop words removal Function\n",
    "stop_words = nltk.corpus.stopwords.words('english')\n",
    "def remove_stopwords(text, is_lower_case=False, stopwords=None):\n",
    "    if not stopwords:\n",
    "        stopwords = nltk.corpus.stopwords.words('english')\n",
    "    tokens = nltk.word_tokenize(text)\n",
    "    tokens = [token.strip() for token in tokens]\n",
    "    \n",
    "    if is_lower_case:\n",
    "        filtered_tokens = [token for token in tokens if token not in stopwords]\n",
    "    else:\n",
    "        filtered_tokens = [token for token in tokens if token.lower() not in stopwords]\n",
    "    \n",
    "    text = ' '.join(filtered_tokens)    \n",
    "    return text"
   ]
  },
  {
   "cell_type": "code",
   "execution_count": 24,
   "id": "9d92db2f",
   "metadata": {},
   "outputs": [],
   "source": [
    "#Removing Html Tags\n",
    "import re\n",
    "from bs4 import BeautifulSoup\n",
    "\n",
    "def strip_html_tags(text):\n",
    "    soup = BeautifulSoup(text, \"html.parser\")\n",
    "    [s.extract() for s in soup(['iframe', 'script'])]\n",
    "    stripped_text = soup.get_text()\n",
    "    stripped_text = re.sub(r'[\\r|\\n|\\r\\n]+', '\\n', stripped_text)\n",
    "    return stripped_text"
   ]
  },
  {
   "cell_type": "code",
   "execution_count": 25,
   "id": "c74b247e",
   "metadata": {},
   "outputs": [
    {
     "name": "stderr",
     "output_type": "stream",
     "text": [
      "[nltk_data] Downloading package omw-1.4 to\n",
      "[nltk_data]     C:\\Users\\gorla\\AppData\\Roaming\\nltk_data...\n",
      "[nltk_data]   Package omw-1.4 is already up-to-date!\n"
     ]
    }
   ],
   "source": [
    "#lemmatization with pos tagging\n",
    "from nltk.corpus import wordnet\n",
    "nltk.download('omw-1.4')\n",
    "from nltk.stem import WordNetLemmatizer\n",
    "wnl = WordNetLemmatizer()\n",
    "def lematization(text):\n",
    "    tokens = nltk.word_tokenize(text)\n",
    "    tagged_tokens = nltk.pos_tag(tokens)\n",
    "    tag_map = {'j': wordnet.ADJ, 'v': wordnet.VERB, 'n': wordnet.NOUN, 'r': wordnet.ADV}\n",
    "    new_tagged_tokens = [(word, tag_map.get(tag[0].lower(), wordnet.NOUN))\n",
    "                            for word, tag in tagged_tokens]\n",
    "    lemmatized_text = ' '.join(wnl.lemmatize(word, tag) for word, tag in new_tagged_tokens)\n",
    "    return  lemmatized_text\n"
   ]
  },
  {
   "cell_type": "code",
   "execution_count": 26,
   "id": "4513c216",
   "metadata": {},
   "outputs": [
    {
     "name": "stderr",
     "output_type": "stream",
     "text": [
      "C:\\Users\\gorla\\anaconda3\\envs\\tf\\lib\\site-packages\\bs4\\__init__.py:435: MarkupResemblesLocatorWarning: The input looks more like a filename than markup. You may want to open this file and pass the filehandle into Beautiful Soup.\n",
      "  warnings.warn(\n"
     ]
    },
    {
     "name": "stdout",
     "output_type": "stream",
     "text": [
      "(<a href=\"http://www.j-archive.com/media/2010-12-07_DJ_09.jpg\" target=\"_blank\">Dr. Oz presents the clue.</a>) By surgically interrupting the electrical impulses that are causing an abnormal rhythm, the maze procedure is designed to threat this type of heart arrhythmia abbreviated \"A.F.\"\n"
     ]
    }
   ],
   "source": [
    "#Html tag removing ,Fixing contracitins and Removing special Charecters And digits\n",
    "que=df[' Question'].tolist()\n",
    "print(que[466])\n",
    "for i in range(len(que)):\n",
    "    text=strip_html_tags(que[i])\n",
    "    que[i]=text\n",
    "for i in range(len(que)):\n",
    "    text=remove_special_characters(que[i],remove_digits=True)\n",
    "    que[i]=text\n",
    "for i in range(len(que)):\n",
    "    text=remove_stopwords(que[i],is_lower_case=False)\n",
    "    que[i]=text\n",
    "for i in range(len(que)):\n",
    "    text=lematization(que[i])\n",
    "    que[i]=text"
   ]
  },
  {
   "cell_type": "code",
   "execution_count": 27,
   "id": "b69cf3c7",
   "metadata": {},
   "outputs": [
    {
     "data": {
      "text/plain": [
       "'Dr Oz present clue surgically interrupt electrical impulse cause abnormal rhythm maze procedure design threat type heart arrhythmia abbreviate AF'"
      ]
     },
     "execution_count": 27,
     "metadata": {},
     "output_type": "execute_result"
    }
   ],
   "source": [
    "que[466]"
   ]
  },
  {
   "cell_type": "code",
   "execution_count": 28,
   "id": "40f9020b",
   "metadata": {},
   "outputs": [],
   "source": [
    "df[\"questions\"]=que"
   ]
  },
  {
   "cell_type": "code",
   "execution_count": 47,
   "id": "feea50e5",
   "metadata": {},
   "outputs": [
    {
     "data": {
      "text/html": [
       "<div>\n",
       "<style scoped>\n",
       "    .dataframe tbody tr th:only-of-type {\n",
       "        vertical-align: middle;\n",
       "    }\n",
       "\n",
       "    .dataframe tbody tr th {\n",
       "        vertical-align: top;\n",
       "    }\n",
       "\n",
       "    .dataframe thead th {\n",
       "        text-align: right;\n",
       "    }\n",
       "</style>\n",
       "<table border=\"1\" class=\"dataframe\">\n",
       "  <thead>\n",
       "    <tr style=\"text-align: right;\">\n",
       "      <th></th>\n",
       "      <th>category</th>\n",
       "      <th>value</th>\n",
       "      <th>answer</th>\n",
       "      <th>year</th>\n",
       "      <th>questions</th>\n",
       "      <th>round_Double Jeopardy!</th>\n",
       "      <th>round_Final Jeopardy!</th>\n",
       "      <th>round_Jeopardy!</th>\n",
       "      <th>round_Tiebreaker</th>\n",
       "    </tr>\n",
       "  </thead>\n",
       "  <tbody>\n",
       "    <tr>\n",
       "      <th>0</th>\n",
       "      <td>HISTORY</td>\n",
       "      <td>200</td>\n",
       "      <td>Copernicus</td>\n",
       "      <td>2004</td>\n",
       "      <td>last year life Galileo house arrest espouse ma...</td>\n",
       "      <td>0</td>\n",
       "      <td>0</td>\n",
       "      <td>1</td>\n",
       "      <td>0</td>\n",
       "    </tr>\n",
       "    <tr>\n",
       "      <th>1</th>\n",
       "      <td>ESPN's TOP 10 ALL-TIME ATHLETES</td>\n",
       "      <td>200</td>\n",
       "      <td>Jim Thorpe</td>\n",
       "      <td>2004</td>\n",
       "      <td>Olympian football star Carlisle Indian School ...</td>\n",
       "      <td>0</td>\n",
       "      <td>0</td>\n",
       "      <td>1</td>\n",
       "      <td>0</td>\n",
       "    </tr>\n",
       "    <tr>\n",
       "      <th>2</th>\n",
       "      <td>EVERYBODY TALKS ABOUT IT...</td>\n",
       "      <td>200</td>\n",
       "      <td>Arizona</td>\n",
       "      <td>2004</td>\n",
       "      <td>city Yuma state record average hour sunshine year</td>\n",
       "      <td>0</td>\n",
       "      <td>0</td>\n",
       "      <td>1</td>\n",
       "      <td>0</td>\n",
       "    </tr>\n",
       "    <tr>\n",
       "      <th>3</th>\n",
       "      <td>THE COMPANY LINE</td>\n",
       "      <td>200</td>\n",
       "      <td>McDonald's</td>\n",
       "      <td>2004</td>\n",
       "      <td>live Art Linkletter Show company serve billion...</td>\n",
       "      <td>0</td>\n",
       "      <td>0</td>\n",
       "      <td>1</td>\n",
       "      <td>0</td>\n",
       "    </tr>\n",
       "    <tr>\n",
       "      <th>4</th>\n",
       "      <td>EPITAPHS &amp; TRIBUTES</td>\n",
       "      <td>200</td>\n",
       "      <td>John Adams</td>\n",
       "      <td>2004</td>\n",
       "      <td>Signer Dec Indep framer Constitution Mass seco...</td>\n",
       "      <td>0</td>\n",
       "      <td>0</td>\n",
       "      <td>1</td>\n",
       "      <td>0</td>\n",
       "    </tr>\n",
       "    <tr>\n",
       "      <th>...</th>\n",
       "      <td>...</td>\n",
       "      <td>...</td>\n",
       "      <td>...</td>\n",
       "      <td>...</td>\n",
       "      <td>...</td>\n",
       "      <td>...</td>\n",
       "      <td>...</td>\n",
       "      <td>...</td>\n",
       "      <td>...</td>\n",
       "    </tr>\n",
       "    <tr>\n",
       "      <th>216925</th>\n",
       "      <td>RIDDLE ME THIS</td>\n",
       "      <td>2000</td>\n",
       "      <td>Turandot</td>\n",
       "      <td>2006</td>\n",
       "      <td>Puccini opera turn solution riddle pose heroine</td>\n",
       "      <td>1</td>\n",
       "      <td>0</td>\n",
       "      <td>0</td>\n",
       "      <td>0</td>\n",
       "    </tr>\n",
       "    <tr>\n",
       "      <th>216926</th>\n",
       "      <td>\"T\" BIRDS</td>\n",
       "      <td>2000</td>\n",
       "      <td>a titmouse</td>\n",
       "      <td>2006</td>\n",
       "      <td>North America term properly apply specie crest...</td>\n",
       "      <td>1</td>\n",
       "      <td>0</td>\n",
       "      <td>0</td>\n",
       "      <td>0</td>\n",
       "    </tr>\n",
       "    <tr>\n",
       "      <th>216927</th>\n",
       "      <td>AUTHORS IN THEIR YOUTH</td>\n",
       "      <td>2000</td>\n",
       "      <td>Clive Barker</td>\n",
       "      <td>2006</td>\n",
       "      <td>Penny Lane Hellraiser grow barber shave anothe...</td>\n",
       "      <td>1</td>\n",
       "      <td>0</td>\n",
       "      <td>0</td>\n",
       "      <td>0</td>\n",
       "    </tr>\n",
       "    <tr>\n",
       "      <th>216928</th>\n",
       "      <td>QUOTATIONS</td>\n",
       "      <td>2000</td>\n",
       "      <td>Geronimo</td>\n",
       "      <td>2006</td>\n",
       "      <td>Ft Sill Okla make plea Arizona land home fathe...</td>\n",
       "      <td>1</td>\n",
       "      <td>0</td>\n",
       "      <td>0</td>\n",
       "      <td>0</td>\n",
       "    </tr>\n",
       "    <tr>\n",
       "      <th>216929</th>\n",
       "      <td>HISTORIC NAMES</td>\n",
       "      <td>0</td>\n",
       "      <td>Grigori Alexandrovich Potemkin</td>\n",
       "      <td>2006</td>\n",
       "      <td>silent movie title include last name th c stat...</td>\n",
       "      <td>0</td>\n",
       "      <td>1</td>\n",
       "      <td>0</td>\n",
       "      <td>0</td>\n",
       "    </tr>\n",
       "  </tbody>\n",
       "</table>\n",
       "<p>216930 rows × 9 columns</p>\n",
       "</div>"
      ],
      "text/plain": [
       "                               category  value  \\\n",
       "0                               HISTORY    200   \n",
       "1       ESPN's TOP 10 ALL-TIME ATHLETES    200   \n",
       "2           EVERYBODY TALKS ABOUT IT...    200   \n",
       "3                      THE COMPANY LINE    200   \n",
       "4                   EPITAPHS & TRIBUTES    200   \n",
       "...                                 ...    ...   \n",
       "216925                   RIDDLE ME THIS   2000   \n",
       "216926                        \"T\" BIRDS   2000   \n",
       "216927           AUTHORS IN THEIR YOUTH   2000   \n",
       "216928                       QUOTATIONS   2000   \n",
       "216929                   HISTORIC NAMES      0   \n",
       "\n",
       "                                answer  year  \\\n",
       "0                           Copernicus  2004   \n",
       "1                           Jim Thorpe  2004   \n",
       "2                              Arizona  2004   \n",
       "3                           McDonald's  2004   \n",
       "4                           John Adams  2004   \n",
       "...                                ...   ...   \n",
       "216925                        Turandot  2006   \n",
       "216926                      a titmouse  2006   \n",
       "216927                    Clive Barker  2006   \n",
       "216928                        Geronimo  2006   \n",
       "216929  Grigori Alexandrovich Potemkin  2006   \n",
       "\n",
       "                                                questions  \\\n",
       "0       last year life Galileo house arrest espouse ma...   \n",
       "1       Olympian football star Carlisle Indian School ...   \n",
       "2       city Yuma state record average hour sunshine year   \n",
       "3       live Art Linkletter Show company serve billion...   \n",
       "4       Signer Dec Indep framer Constitution Mass seco...   \n",
       "...                                                   ...   \n",
       "216925    Puccini opera turn solution riddle pose heroine   \n",
       "216926  North America term properly apply specie crest...   \n",
       "216927  Penny Lane Hellraiser grow barber shave anothe...   \n",
       "216928  Ft Sill Okla make plea Arizona land home fathe...   \n",
       "216929  silent movie title include last name th c stat...   \n",
       "\n",
       "        round_Double Jeopardy!  round_Final Jeopardy!  round_Jeopardy!  \\\n",
       "0                            0                      0                1   \n",
       "1                            0                      0                1   \n",
       "2                            0                      0                1   \n",
       "3                            0                      0                1   \n",
       "4                            0                      0                1   \n",
       "...                        ...                    ...              ...   \n",
       "216925                       1                      0                0   \n",
       "216926                       1                      0                0   \n",
       "216927                       1                      0                0   \n",
       "216928                       1                      0                0   \n",
       "216929                       0                      1                0   \n",
       "\n",
       "        round_Tiebreaker  \n",
       "0                      0  \n",
       "1                      0  \n",
       "2                      0  \n",
       "3                      0  \n",
       "4                      0  \n",
       "...                  ...  \n",
       "216925                 0  \n",
       "216926                 0  \n",
       "216927                 0  \n",
       "216928                 0  \n",
       "216929                 0  \n",
       "\n",
       "[216930 rows x 9 columns]"
      ]
     },
     "execution_count": 47,
     "metadata": {},
     "output_type": "execute_result"
    }
   ],
   "source": [
    "df"
   ]
  },
  {
   "cell_type": "code",
   "execution_count": null,
   "id": "41611e3a",
   "metadata": {},
   "outputs": [],
   "source": []
  },
  {
   "cell_type": "code",
   "execution_count": null,
   "id": "f0f06a50",
   "metadata": {},
   "outputs": [],
   "source": []
  }
 ],
 "metadata": {
  "kernelspec": {
   "display_name": "Python 3 (ipykernel)",
   "language": "python",
   "name": "python3"
  },
  "language_info": {
   "codemirror_mode": {
    "name": "ipython",
    "version": 3
   },
   "file_extension": ".py",
   "mimetype": "text/x-python",
   "name": "python",
   "nbconvert_exporter": "python",
   "pygments_lexer": "ipython3",
   "version": "3.9.7"
  }
 },
 "nbformat": 4,
 "nbformat_minor": 5
}
